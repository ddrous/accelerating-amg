{
 "cells": [
  {
   "cell_type": "code",
   "execution_count": 1,
   "metadata": {},
   "outputs": [],
   "source": [
    "import dgl\n",
    "import torch\n",
    "import torch.nn as nn\n",
    "import torch.nn.functional as F\n",
    "\n"
   ]
  },
  {
   "cell_type": "code",
   "execution_count": 2,
   "metadata": {},
   "outputs": [
    {
     "name": "stdout",
     "output_type": "stream",
     "text": [
      "  NumNodes: 2708\n",
      "  NumEdges: 10556\n",
      "  NumFeats: 1433\n",
      "  NumClasses: 7\n",
      "  NumTrainingSamples: 140\n",
      "  NumValidationSamples: 500\n",
      "  NumTestSamples: 1000\n",
      "Done loading data from cached files.\n",
      "Number of categories: 7\n"
     ]
    }
   ],
   "source": [
    "# print(torch.__version__)\n",
    "\n",
    "import dgl.data\n",
    "\n",
    "dataset = dgl.data.CoraGraphDataset()\n",
    "print('Number of categories:', dataset.num_classes)\n",
    "\n",
    "g = dataset[0]\n"
   ]
  },
  {
   "cell_type": "code",
   "execution_count": 7,
   "metadata": {},
   "outputs": [
    {
     "name": "stdout",
     "output_type": "stream",
     "text": [
      "Graph(num_nodes=2708, num_edges=10556,\n",
      "      ndata_schemes={'train_mask': Scheme(shape=(), dtype=torch.bool), 'label': Scheme(shape=(), dtype=torch.int64), 'val_mask': Scheme(shape=(), dtype=torch.bool), 'test_mask': Scheme(shape=(), dtype=torch.bool), 'feat': Scheme(shape=(1433,), dtype=torch.float32)}\n",
      "      edata_schemes={'__orig__': Scheme(shape=(), dtype=torch.int64)})\n"
     ]
    }
   ],
   "source": [
    "print(g)"
   ]
  },
  {
   "cell_type": "code",
   "execution_count": 9,
   "metadata": {},
   "outputs": [],
   "source": [
    "from dgl.nn import GraphConv\n",
    "\n",
    "class GCN(nn.Module):\n",
    "    def __init__(self, in_feats, h_feats, num_classes):\n",
    "        super(GCN, self).__init__()\n",
    "        self.conv1 = GraphConv(in_feats, h_feats)\n",
    "        self.conv2 = GraphConv(h_feats, num_classes)\n",
    "\n",
    "    def forward(self, g, in_feat):\n",
    "        h = self.conv1(g, in_feat)\n",
    "        h = F.relu(h)\n",
    "        h = self.conv2(g, h)\n",
    "        return h\n",
    "\n",
    "# Create the model with given dimensions\n",
    "model = GCN(g.ndata['feat'].shape[1], 16, dataset.num_classes)\n"
   ]
  },
  {
   "cell_type": "code",
   "execution_count": 11,
   "metadata": {},
   "outputs": [
    {
     "name": "stdout",
     "output_type": "stream",
     "text": [
      "In epoch 0, loss: 1.946, val acc: 0.100 (best 0.100), test acc: 0.111 (best 0.111)\n",
      "In epoch 5, loss: 1.886, val acc: 0.338 (best 0.338), test acc: 0.384 (best 0.384)\n",
      "In epoch 10, loss: 1.802, val acc: 0.534 (best 0.534), test acc: 0.585 (best 0.585)\n",
      "In epoch 15, loss: 1.695, val acc: 0.590 (best 0.590), test acc: 0.629 (best 0.629)\n",
      "In epoch 20, loss: 1.567, val acc: 0.632 (best 0.632), test acc: 0.657 (best 0.657)\n",
      "In epoch 25, loss: 1.420, val acc: 0.664 (best 0.664), test acc: 0.677 (best 0.677)\n",
      "In epoch 30, loss: 1.259, val acc: 0.698 (best 0.698), test acc: 0.697 (best 0.697)\n",
      "In epoch 35, loss: 1.091, val acc: 0.712 (best 0.712), test acc: 0.716 (best 0.716)\n",
      "In epoch 40, loss: 0.924, val acc: 0.722 (best 0.722), test acc: 0.730 (best 0.730)\n",
      "In epoch 45, loss: 0.767, val acc: 0.738 (best 0.738), test acc: 0.744 (best 0.741)\n",
      "In epoch 50, loss: 0.627, val acc: 0.746 (best 0.748), test acc: 0.754 (best 0.751)\n",
      "In epoch 55, loss: 0.507, val acc: 0.750 (best 0.750), test acc: 0.754 (best 0.754)\n",
      "In epoch 60, loss: 0.408, val acc: 0.754 (best 0.754), test acc: 0.757 (best 0.757)\n",
      "In epoch 65, loss: 0.329, val acc: 0.754 (best 0.756), test acc: 0.759 (best 0.761)\n",
      "In epoch 70, loss: 0.266, val acc: 0.752 (best 0.756), test acc: 0.763 (best 0.761)\n",
      "In epoch 75, loss: 0.216, val acc: 0.752 (best 0.756), test acc: 0.765 (best 0.761)\n",
      "In epoch 80, loss: 0.177, val acc: 0.748 (best 0.756), test acc: 0.769 (best 0.761)\n",
      "In epoch 85, loss: 0.147, val acc: 0.750 (best 0.756), test acc: 0.770 (best 0.761)\n",
      "In epoch 90, loss: 0.123, val acc: 0.750 (best 0.756), test acc: 0.771 (best 0.761)\n",
      "In epoch 95, loss: 0.104, val acc: 0.754 (best 0.756), test acc: 0.771 (best 0.761)\n"
     ]
    }
   ],
   "source": [
    "def train(g, model):\n",
    "    optimizer = torch.optim.Adam(model.parameters(), lr=0.01)\n",
    "    best_val_acc = 0\n",
    "    best_test_acc = 0\n",
    "\n",
    "    features = g.ndata['feat']\n",
    "    labels = g.ndata['label']\n",
    "    train_mask = g.ndata['train_mask']\n",
    "    val_mask = g.ndata['val_mask']\n",
    "    test_mask = g.ndata['test_mask']\n",
    "    for e in range(100):\n",
    "        # Forward\n",
    "        logits = model(g, features)\n",
    "\n",
    "        # Compute prediction\n",
    "        pred = logits.argmax(1)\n",
    "\n",
    "        # Compute loss\n",
    "        # Note that you should only compute the losses of the nodes in the training set.\n",
    "        loss = F.cross_entropy(logits[train_mask], labels[train_mask])\n",
    "\n",
    "        # Compute accuracy on training/validation/test\n",
    "        train_acc = (pred[train_mask] == labels[train_mask]).float().mean()\n",
    "        val_acc = (pred[val_mask] == labels[val_mask]).float().mean()\n",
    "        test_acc = (pred[test_mask] == labels[test_mask]).float().mean()\n",
    "\n",
    "        # Save the best validation accuracy and the corresponding test accuracy.\n",
    "        if best_val_acc < val_acc:\n",
    "            best_val_acc = val_acc\n",
    "            best_test_acc = test_acc\n",
    "\n",
    "        # Backward\n",
    "        optimizer.zero_grad()\n",
    "        loss.backward()\n",
    "        optimizer.step()\n",
    "\n",
    "        if e % 5 == 0:\n",
    "            print('In epoch {}, loss: {:.3f}, val acc: {:.3f} (best {:.3f}), test acc: {:.3f} (best {:.3f})'.format(\n",
    "                e, loss, val_acc, best_val_acc, test_acc, best_test_acc))\n",
    "\n",
    "g = g.to('cuda')\n",
    "model = GCN(g.ndata['feat'].shape[1], 16, dataset.num_classes).to('cuda')\n",
    "train(g, model)"
   ]
  },
  {
   "cell_type": "code",
   "execution_count": null,
   "metadata": {},
   "outputs": [],
   "source": []
  }
 ],
 "metadata": {
  "kernelspec": {
   "display_name": "Python 3.9.8 ('pytorch')",
   "language": "python",
   "name": "python3"
  },
  "language_info": {
   "codemirror_mode": {
    "name": "ipython",
    "version": 3
   },
   "file_extension": ".py",
   "mimetype": "text/x-python",
   "name": "python",
   "nbconvert_exporter": "python",
   "pygments_lexer": "ipython3",
   "version": "3.9.8"
  },
  "orig_nbformat": 4,
  "vscode": {
   "interpreter": {
    "hash": "9ed63092281da77c49016cfe7b65a8888e388866430b057ec40c20c67b0304e0"
   }
  }
 },
 "nbformat": 4,
 "nbformat_minor": 2
}
