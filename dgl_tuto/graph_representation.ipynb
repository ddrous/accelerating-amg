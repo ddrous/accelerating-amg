{
 "cells": [
  {
   "cell_type": "code",
   "execution_count": 7,
   "metadata": {},
   "outputs": [],
   "source": [
    "import dgl\n",
    "import numpy as np\n",
    "import torch"
   ]
  },
  {
   "cell_type": "code",
   "execution_count": 8,
   "metadata": {},
   "outputs": [
    {
     "name": "stdout",
     "output_type": "stream",
     "text": [
      "(tensor([0, 0, 0, 0, 0]), tensor([1, 2, 3, 4, 5]))\n"
     ]
    }
   ],
   "source": [
    "g = dgl.graph(([0, 0, 0, 0, 0], [1, 2, 3, 4, 5]), num_nodes=6)\n",
    "# Equivalently, PyTorch LongTensors also work.\n",
    "g = dgl.graph((torch.LongTensor([0, 0, 0, 0, 0]), torch.LongTensor([1, 2, 3, 4, 5])), num_nodes=6)\n",
    "\n",
    "# You can omit the number of nodes argument if you can tell the number of nodes from the edge list alone.\n",
    "g = dgl.graph(([0, 0, 0, 0, 0], [1, 2, 3, 4, 5]))\n",
    "\n",
    "# Print the source and destination nodes of every edge.\n",
    "print(g.edges())"
   ]
  },
  {
   "cell_type": "code",
   "execution_count": 9,
   "metadata": {},
   "outputs": [],
   "source": [
    "g.ndata['x'] = torch.randn((6, 2))"
   ]
  },
  {
   "cell_type": "code",
   "execution_count": null,
   "metadata": {},
   "outputs": [],
   "source": []
  },
  {
   "cell_type": "code",
   "execution_count": null,
   "metadata": {},
   "outputs": [],
   "source": []
  },
  {
   "cell_type": "code",
   "execution_count": null,
   "metadata": {},
   "outputs": [],
   "source": []
  },
  {
   "cell_type": "code",
   "execution_count": null,
   "metadata": {},
   "outputs": [],
   "source": []
  },
  {
   "cell_type": "markdown",
   "metadata": {},
   "source": [
    "## Drawing a graph with PyVis"
   ]
  },
  {
   "cell_type": "code",
   "execution_count": 10,
   "metadata": {},
   "outputs": [
    {
     "name": "stdout",
     "output_type": "stream",
     "text": [
      "{'weight': 5.0, 'color': 'red'}\n"
     ]
    }
   ],
   "source": [
    "import networkx as nx\n",
    "import matplotlib.pyplot as plt\n",
    "\n",
    "# G = nx.complete_graph(5)\n",
    "G = nx.Graph()\n",
    "\n",
    "elist = [('a', 'b', 5.0), ('b', 'c', 3.0), ('a', 'c', 1.0), ('c', 'd', 7.3)]\n",
    "G.add_weighted_edges_from(elist)\n",
    "G['a']['b']['color'] = 'red'\n",
    "\n",
    "options = {\n",
    "    'node_color': 'red',\n",
    "    # 'node_size': 50,\n",
    "    'width': 1,\n",
    "    'with_labels':True, \n",
    "    'font_weight':'bold'\n",
    "}\n",
    "\n",
    "print(G['a']['b'])\n",
    "# nx.draw(G, **options)\n",
    "# nx.draw_networkx_edge_labels(G,pos,edge_labels=labels)        ## Dar edge labels\n"
   ]
  },
  {
   "cell_type": "code",
   "execution_count": 11,
   "metadata": {},
   "outputs": [
    {
     "name": "stdout",
     "output_type": "stream",
     "text": [
      "  NumNodes: 2708\n",
      "  NumEdges: 10556\n",
      "  NumFeats: 1433\n",
      "  NumClasses: 7\n",
      "  NumTrainingSamples: 140\n",
      "  NumValidationSamples: 500\n",
      "  NumTestSamples: 1000\n",
      "Done loading data from cached files.\n",
      "<bound method DGLHeteroGraph.num_nodes of Graph(num_nodes=2708, num_edges=10556,\n",
      "      ndata_schemes={'feat': Scheme(shape=(1433,), dtype=torch.float32), 'label': Scheme(shape=(), dtype=torch.int64), 'val_mask': Scheme(shape=(), dtype=torch.bool), 'test_mask': Scheme(shape=(), dtype=torch.bool), 'train_mask': Scheme(shape=(), dtype=torch.bool)}\n",
      "      edata_schemes={'__orig__': Scheme(shape=(), dtype=torch.int64)})>\n"
     ]
    }
   ],
   "source": [
    "dataset = dgl.data.CoraGraphDataset()\n",
    "g = dataset[0]\n",
    "options = {\n",
    "    'node_color': 'black',\n",
    "    'node_size': 20,\n",
    "    'width': 1,\n",
    "}\n",
    "\n",
    "print(g.num_nodes)\n",
    "\n",
    "# G = dgl.to_networkx(g)\n",
    "# plt.figure(figsize=[15,7])\n",
    "# nx.draw(G, **options)"
   ]
  },
  {
   "cell_type": "code",
   "execution_count": 12,
   "metadata": {},
   "outputs": [
    {
     "data": {
      "text/html": [
       "\n",
       "        <iframe\n",
       "            width=\"500\"\n",
       "            height=\"500\"\n",
       "            src=\"ex.html\"\n",
       "            frameborder=\"0\"\n",
       "            allowfullscreen\n",
       "            \n",
       "        ></iframe>\n",
       "        "
      ],
      "text/plain": [
       "<IPython.lib.display.IFrame at 0x7f99e0a35760>"
      ]
     },
     "execution_count": 12,
     "metadata": {},
     "output_type": "execute_result"
    }
   ],
   "source": [
    "## Easy example\n",
    "\n",
    "from pyvis.network import Network\n",
    "import networkx as nx\n",
    "\n",
    "g = Network(height=500, width=500, notebook=True)\n",
    "# g.toggle_hide_edge_on_drag(True)\n",
    "g.barnes_hut()\n",
    "g.from_nx(nx.davis_southern_women_graph())\n",
    "g.show_buttons(filter_=True)\n",
    "g.show('ex.html')"
   ]
  },
  {
   "cell_type": "code",
   "execution_count": 13,
   "metadata": {},
   "outputs": [
    {
     "name": "stdout",
     "output_type": "stream",
     "text": [
      "  NumNodes: 2708\n",
      "  NumEdges: 10556\n",
      "  NumFeats: 1433\n",
      "  NumClasses: 7\n",
      "  NumTrainingSamples: 140\n",
      "  NumValidationSamples: 500\n",
      "  NumTestSamples: 1000\n",
      "Done loading data from cached files.\n",
      "Graph with 2708 nodes and 5278 edges\n"
     ]
    }
   ],
   "source": [
    "## Not yet worked-out example\n",
    "\n",
    "import dgl\n",
    "from pyvis.network import Network\n",
    "import networkx as nx\n",
    "\n",
    "dataset = dgl.data.CoraGraphDataset()\n",
    "\n",
    "g = Network(height=800, width=800, notebook=True)\n",
    "# g.barnes_hut()\n",
    "\n",
    "netxG = nx.Graph(dataset[0].to_networkx())\n",
    "print(netxG)\n",
    "\n",
    "# g.from_nx(netxG)\n",
    "# nt.show_buttons()\n",
    "# g.show('ex.html')"
   ]
  },
  {
   "cell_type": "code",
   "execution_count": 14,
   "metadata": {},
   "outputs": [
    {
     "data": {
      "text/html": [
       "\n",
       "        <iframe\n",
       "            width=\"500px\"\n",
       "            height=\"500px\"\n",
       "            src=\"nx.html\"\n",
       "            frameborder=\"0\"\n",
       "            allowfullscreen\n",
       "            \n",
       "        ></iframe>\n",
       "        "
      ],
      "text/plain": [
       "<IPython.lib.display.IFrame at 0x7f9a01618940>"
      ]
     },
     "execution_count": 14,
     "metadata": {},
     "output_type": "execute_result"
    }
   ],
   "source": [
    "## How to keep the label on edges ?\n",
    "\n",
    "from pyvis.network import Network\n",
    "import networkx as nx\n",
    "\n",
    "nx_graph = nx.cycle_graph(10)\n",
    "nx_graph.nodes[1]['title'] = 'Number 1'\n",
    "nx_graph.nodes[1]['group'] = 1\n",
    "nx_graph.nodes[3]['title'] = 'I belong to a different group!'\n",
    "nx_graph.nodes[3]['group'] = 10\n",
    "nx_graph.add_node(20, size=20, title='couple', label='2', group=2)\n",
    "nx_graph.add_node(21, size=15, title='couple', group=2)\n",
    "\n",
    "nx_graph.add_edge(20, 21, weight=5, title='7', label='5')\n",
    "nx_graph.add_node(25, size=25, label='lonely', title='lonely node', group=3)\n",
    "\n",
    "nt = Network(\"500px\", \"500px\", notebook=True)\n",
    "nt.from_nx(nx_graph)\n",
    "# nt.show_buttons(filter_=['physics'])\n",
    "nt.show_buttons()\n",
    "nt.show(\"nx.html\")\n"
   ]
  },
  {
   "cell_type": "code",
   "execution_count": 87,
   "metadata": {},
   "outputs": [
    {
     "name": "stdout",
     "output_type": "stream",
     "text": [
      "  NumNodes: 2708\n",
      "  NumEdges: 10556\n",
      "  NumFeats: 1433\n",
      "  NumClasses: 7\n",
      "  NumTrainingSamples: 140\n",
      "  NumValidationSamples: 500\n",
      "  NumTestSamples: 1000\n",
      "Done loading data from cached files.\n",
      "\n",
      "Node 0 color: red\n",
      "Node 0 size: 5\n"
     ]
    },
    {
     "data": {
      "text/html": [
       "\n",
       "        <iframe\n",
       "            width=\"800\"\n",
       "            height=\"800\"\n",
       "            src=\"res.html\"\n",
       "            frameborder=\"0\"\n",
       "            allowfullscreen\n",
       "            \n",
       "        ></iframe>\n",
       "        "
      ],
      "text/plain": [
       "<IPython.lib.display.IFrame at 0x7f9a018e2b50>"
      ]
     },
     "execution_count": 87,
     "metadata": {},
     "output_type": "execute_result"
    }
   ],
   "source": [
    "import dgl\n",
    "import networkx as nx\n",
    "from pyvis.network import Network\n",
    "\n",
    "# Load the cora dataset and slice it using DGL\n",
    "dataset = dgl.data.CoraGraphDataset()\n",
    "g_dgl = dataset[0].subgraph(list(range(50)))\n",
    "\n",
    "# Convert the DGL graph to NetworkX\n",
    "g_netx = nx.Graph(g_dgl.to_networkx())\n",
    "\n",
    "# Get the colors dict from labels (the class of the paper) \n",
    "labels = g_dgl.ndata['label'].numpy()\n",
    "c_dict = {4:'red', 3:'black'}\n",
    "colors = {i:c_dict.get(labels[i], 'blue') for i in range(50)}\n",
    "# print(\"colors:\", colors)\n",
    "\n",
    "# Assign colors proportional to the labels found in DGL\n",
    "sizes = {i:int(labels[i])+1 for i in range(50)}\n",
    "\n",
    "# Add the colors and sizes to networkX graph as node attributes\n",
    "nx.set_node_attributes(g_netx, colors, name=\"color\")\n",
    "nx.set_node_attributes(g_netx, sizes, name=\"size\")\n",
    "print(f\"\\nNode 0 color: {g_netx.nodes[0]['color']}\")\n",
    "print(f\"Node 0 size: {g_netx.nodes[0]['size']}\")\n",
    "\n",
    "# Remap the node ids to strings to avoid error with PyVis\n",
    "mapping = {i:str(i) for i in range(g_netx.size())}   # Setting mapping for the relabeling\n",
    "g_netx = nx.relabel_nodes(g_netx, mapping)           # Relabeling nodes\n",
    "\n",
    "# Plot the resulting netwrokx graph using PyVis\n",
    "g_pyvis = Network(height=800, width=800, notebook=True)\n",
    "g_pyvis.from_nx(g_netx, node_size_transf=lambda n:5*n)\n",
    "g_pyvis.show('res.html')"
   ]
  }
 ],
 "metadata": {
  "kernelspec": {
   "display_name": "Python 3 (ipykernel)",
   "language": "python",
   "name": "python3"
  },
  "language_info": {
   "codemirror_mode": {
    "name": "ipython",
    "version": 3
   },
   "file_extension": ".py",
   "mimetype": "text/x-python",
   "name": "python",
   "nbconvert_exporter": "python",
   "pygments_lexer": "ipython3",
   "version": "3.9.7"
  },
  "vscode": {
   "interpreter": {
    "hash": "e3dcd7eeea4ac33c23b7d309905009928c1c30a208d32642ff92eb1bf64669fb"
   }
  }
 },
 "nbformat": 4,
 "nbformat_minor": 2
}
