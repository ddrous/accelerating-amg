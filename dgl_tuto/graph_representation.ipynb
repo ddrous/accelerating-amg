{
 "cells": [
  {
   "cell_type": "code",
   "execution_count": 1,
   "metadata": {},
   "outputs": [
    {
     "name": "stdout",
     "output_type": "stream",
     "text": [
      "Looking in indexes: https://pypi.org/simple, https://pip.repos.neuron.amazonaws.com\n",
      "Collecting dgl\n",
      "  Downloading dgl-0.6.1-cp38-cp38-manylinux1_x86_64.whl (4.5 MB)\n",
      "\u001b[2K     \u001b[90m━━━━━━━━━━━━━━━━━━━━━━━━━━━━━━━━━━━━━━━━\u001b[0m \u001b[32m4.5/4.5 MB\u001b[0m \u001b[31m26.1 MB/s\u001b[0m eta \u001b[36m0:00:00\u001b[0m00:01\u001b[0m00:01\u001b[0m\n",
      "\u001b[?25hRequirement already satisfied: requests>=2.19.0 in /home/ec2-user/anaconda3/envs/pytorch_p38/lib/python3.8/site-packages (from dgl) (2.26.0)\n",
      "Requirement already satisfied: networkx>=2.1 in /home/ec2-user/anaconda3/envs/pytorch_p38/lib/python3.8/site-packages (from dgl) (2.6.3)\n",
      "Requirement already satisfied: numpy>=1.14.0 in /home/ec2-user/anaconda3/envs/pytorch_p38/lib/python3.8/site-packages (from dgl) (1.21.2)\n",
      "Requirement already satisfied: scipy>=1.1.0 in /home/ec2-user/anaconda3/envs/pytorch_p38/lib/python3.8/site-packages (from dgl) (1.7.2)\n",
      "Requirement already satisfied: certifi>=2017.4.17 in /home/ec2-user/anaconda3/envs/pytorch_p38/lib/python3.8/site-packages (from requests>=2.19.0->dgl) (2021.10.8)\n",
      "Requirement already satisfied: idna<4,>=2.5 in /home/ec2-user/anaconda3/envs/pytorch_p38/lib/python3.8/site-packages (from requests>=2.19.0->dgl) (3.1)\n",
      "Requirement already satisfied: urllib3<1.27,>=1.21.1 in /home/ec2-user/anaconda3/envs/pytorch_p38/lib/python3.8/site-packages (from requests>=2.19.0->dgl) (1.26.8)\n",
      "Requirement already satisfied: charset-normalizer~=2.0.0 in /home/ec2-user/anaconda3/envs/pytorch_p38/lib/python3.8/site-packages (from requests>=2.19.0->dgl) (2.0.7)\n",
      "Installing collected packages: dgl\n",
      "Successfully installed dgl-0.6.1\n",
      "\u001b[33mWARNING: You are using pip version 22.0.4; however, version 22.1.2 is available.\n",
      "You should consider upgrading via the '/home/ec2-user/anaconda3/envs/pytorch_p38/bin/python -m pip install --upgrade pip' command.\u001b[0m\u001b[33m\n",
      "\u001b[0m"
     ]
    }
   ],
   "source": [
    "!pip install dgl"
   ]
  },
  {
   "cell_type": "code",
   "execution_count": 7,
   "metadata": {},
   "outputs": [],
   "source": [
    "import dgl\n",
    "import numpy as np\n",
    "import torch"
   ]
  },
  {
   "cell_type": "code",
   "execution_count": 8,
   "metadata": {},
   "outputs": [
    {
     "name": "stdout",
     "output_type": "stream",
     "text": [
      "(tensor([0, 0, 0, 0, 0]), tensor([1, 2, 3, 4, 5]))\n"
     ]
    }
   ],
   "source": [
    "g = dgl.graph(([0, 0, 0, 0, 0], [1, 2, 3, 4, 5]), num_nodes=6)\n",
    "# Equivalently, PyTorch LongTensors also work.\n",
    "g = dgl.graph((torch.LongTensor([0, 0, 0, 0, 0]), torch.LongTensor([1, 2, 3, 4, 5])), num_nodes=6)\n",
    "\n",
    "# You can omit the number of nodes argument if you can tell the number of nodes from the edge list alone.\n",
    "g = dgl.graph(([0, 0, 0, 0, 0], [1, 2, 3, 4, 5]))\n",
    "\n",
    "# Print the source and destination nodes of every edge.\n",
    "print(g.edges())"
   ]
  },
  {
   "cell_type": "code",
   "execution_count": 9,
   "metadata": {},
   "outputs": [],
   "source": [
    "g.ndata['x'] = torch.randn((6, 2))"
   ]
  },
  {
   "cell_type": "markdown",
   "metadata": {},
   "source": [
    "## Drawing a graph with PyVis"
   ]
  },
  {
   "cell_type": "code",
   "execution_count": 10,
   "metadata": {},
   "outputs": [
    {
     "name": "stdout",
     "output_type": "stream",
     "text": [
      "{'weight': 5.0, 'color': 'red'}\n"
     ]
    }
   ],
   "source": [
    "import networkx as nx\n",
    "import matplotlib.pyplot as plt\n",
    "\n",
    "# G = nx.complete_graph(5)\n",
    "G = nx.Graph()\n",
    "\n",
    "elist = [('a', 'b', 5.0), ('b', 'c', 3.0), ('a', 'c', 1.0), ('c', 'd', 7.3)]\n",
    "G.add_weighted_edges_from(elist)\n",
    "G['a']['b']['color'] = 'red'\n",
    "\n",
    "options = {\n",
    "    'node_color': 'red',\n",
    "    # 'node_size': 50,\n",
    "    'width': 1,\n",
    "    'with_labels':True, \n",
    "    'font_weight':'bold'\n",
    "}\n",
    "\n",
    "print(G['a']['b'])\n",
    "# nx.draw(G, **options)\n",
    "# nx.draw_networkx_edge_labels(G,pos,edge_labels=labels)        ## Dar edge labels\n"
   ]
  },
  {
   "cell_type": "code",
   "execution_count": 11,
   "metadata": {},
   "outputs": [
    {
     "name": "stdout",
     "output_type": "stream",
     "text": [
      "  NumNodes: 2708\n",
      "  NumEdges: 10556\n",
      "  NumFeats: 1433\n",
      "  NumClasses: 7\n",
      "  NumTrainingSamples: 140\n",
      "  NumValidationSamples: 500\n",
      "  NumTestSamples: 1000\n",
      "Done loading data from cached files.\n",
      "<bound method DGLHeteroGraph.num_nodes of Graph(num_nodes=2708, num_edges=10556,\n",
      "      ndata_schemes={'feat': Scheme(shape=(1433,), dtype=torch.float32), 'label': Scheme(shape=(), dtype=torch.int64), 'val_mask': Scheme(shape=(), dtype=torch.bool), 'test_mask': Scheme(shape=(), dtype=torch.bool), 'train_mask': Scheme(shape=(), dtype=torch.bool)}\n",
      "      edata_schemes={'__orig__': Scheme(shape=(), dtype=torch.int64)})>\n"
     ]
    }
   ],
   "source": [
    "dataset = dgl.data.CoraGraphDataset()\n",
    "g = dataset[0]\n",
    "options = {\n",
    "    'node_color': 'black',\n",
    "    'node_size': 20,\n",
    "    'width': 1,\n",
    "}\n",
    "\n",
    "print(g.num_nodes)\n",
    "\n",
    "# G = dgl.to_networkx(g)\n",
    "# plt.figure(figsize=[15,7])\n",
    "# nx.draw(G, **options)"
   ]
  },
  {
   "cell_type": "code",
   "execution_count": 12,
   "metadata": {},
   "outputs": [
    {
     "data": {
      "text/html": [
       "\n",
       "        <iframe\n",
       "            width=\"500\"\n",
       "            height=\"500\"\n",
       "            src=\"ex.html\"\n",
       "            frameborder=\"0\"\n",
       "            allowfullscreen\n",
       "            \n",
       "        ></iframe>\n",
       "        "
      ],
      "text/plain": [
       "<IPython.lib.display.IFrame at 0x7f99e0a35760>"
      ]
     },
     "execution_count": 12,
     "metadata": {},
     "output_type": "execute_result"
    }
   ],
   "source": [
    "## Easy example\n",
    "\n",
    "from pyvis.network import Network\n",
    "import networkx as nx\n",
    "\n",
    "g = Network(height=500, width=500, notebook=True)\n",
    "# g.toggle_hide_edge_on_drag(True)\n",
    "g.barnes_hut()\n",
    "g.from_nx(nx.davis_southern_women_graph())\n",
    "g.show_buttons(filter_=True)\n",
    "g.show('ex.html')"
   ]
  },
  {
   "cell_type": "code",
   "execution_count": 13,
   "metadata": {},
   "outputs": [
    {
     "name": "stdout",
     "output_type": "stream",
     "text": [
      "  NumNodes: 2708\n",
      "  NumEdges: 10556\n",
      "  NumFeats: 1433\n",
      "  NumClasses: 7\n",
      "  NumTrainingSamples: 140\n",
      "  NumValidationSamples: 500\n",
      "  NumTestSamples: 1000\n",
      "Done loading data from cached files.\n",
      "Graph with 2708 nodes and 5278 edges\n"
     ]
    }
   ],
   "source": [
    "## Not yet worked-out example\n",
    "\n",
    "import dgl\n",
    "from pyvis.network import Network\n",
    "import networkx as nx\n",
    "\n",
    "dataset = dgl.data.CoraGraphDataset()\n",
    "\n",
    "g = Network(height=800, width=800, notebook=True)\n",
    "# g.barnes_hut()\n",
    "\n",
    "netxG = nx.Graph(dataset[0].to_networkx())\n",
    "print(netxG)\n",
    "\n",
    "# g.from_nx(netxG)\n",
    "# nt.show_buttons()\n",
    "# g.show('ex.html')"
   ]
  },
  {
   "cell_type": "code",
   "execution_count": 14,
   "metadata": {},
   "outputs": [
    {
     "data": {
      "text/html": [
       "\n",
       "        <iframe\n",
       "            width=\"500px\"\n",
       "            height=\"500px\"\n",
       "            src=\"nx.html\"\n",
       "            frameborder=\"0\"\n",
       "            allowfullscreen\n",
       "            \n",
       "        ></iframe>\n",
       "        "
      ],
      "text/plain": [
       "<IPython.lib.display.IFrame at 0x7f9a01618940>"
      ]
     },
     "execution_count": 14,
     "metadata": {},
     "output_type": "execute_result"
    }
   ],
   "source": [
    "## How to keep the label on edges ?\n",
    "\n",
    "from pyvis.network import Network\n",
    "import networkx as nx\n",
    "\n",
    "nx_graph = nx.cycle_graph(10)\n",
    "nx_graph.nodes[1]['title'] = 'Number 1'\n",
    "nx_graph.nodes[1]['group'] = 1\n",
    "nx_graph.nodes[3]['title'] = 'I belong to a different group!'\n",
    "nx_graph.nodes[3]['group'] = 10\n",
    "nx_graph.add_node(20, size=20, title='couple', label='2', group=2)\n",
    "nx_graph.add_node(21, size=15, title='couple', group=2)\n",
    "\n",
    "nx_graph.add_edge(20, 21, weight=5, title='7', label='5')\n",
    "nx_graph.add_node(25, size=25, label='lonely', title='lonely node', group=3)\n",
    "\n",
    "nt = Network(\"500px\", \"500px\", notebook=True)\n",
    "nt.from_nx(nx_graph)\n",
    "# nt.show_buttons(filter_=['physics'])\n",
    "nt.show_buttons()\n",
    "nt.show(\"nx.html\")\n"
   ]
  },
  {
   "cell_type": "code",
   "execution_count": 1,
   "metadata": {},
   "outputs": [
    {
     "name": "stdout",
     "output_type": "stream",
     "text": [
      "Looking in indexes: https://pypi.org/simple, https://pip.repos.neuron.amazonaws.com\n",
      "Looking in links: https://data.dgl.ai/wheels/repo.html\n",
      "Requirement already satisfied: dgl-cu111 in /home/ec2-user/anaconda3/envs/pytorch_p38/lib/python3.8/site-packages (0.8.2.post1)\n",
      "Requirement already satisfied: psutil>=5.8.0 in /home/ec2-user/anaconda3/envs/pytorch_p38/lib/python3.8/site-packages (from dgl-cu111) (5.8.0)\n",
      "Requirement already satisfied: numpy>=1.14.0 in /home/ec2-user/anaconda3/envs/pytorch_p38/lib/python3.8/site-packages (from dgl-cu111) (1.21.2)\n",
      "Requirement already satisfied: scipy>=1.1.0 in /home/ec2-user/anaconda3/envs/pytorch_p38/lib/python3.8/site-packages (from dgl-cu111) (1.7.2)\n",
      "Requirement already satisfied: networkx>=2.1 in /home/ec2-user/anaconda3/envs/pytorch_p38/lib/python3.8/site-packages (from dgl-cu111) (2.6.3)\n",
      "Requirement already satisfied: requests>=2.19.0 in /home/ec2-user/anaconda3/envs/pytorch_p38/lib/python3.8/site-packages (from dgl-cu111) (2.26.0)\n",
      "Requirement already satisfied: tqdm in /home/ec2-user/anaconda3/envs/pytorch_p38/lib/python3.8/site-packages (from dgl-cu111) (4.62.3)\n",
      "Requirement already satisfied: certifi>=2017.4.17 in /home/ec2-user/anaconda3/envs/pytorch_p38/lib/python3.8/site-packages (from requests>=2.19.0->dgl-cu111) (2021.10.8)\n",
      "Requirement already satisfied: charset-normalizer~=2.0.0 in /home/ec2-user/anaconda3/envs/pytorch_p38/lib/python3.8/site-packages (from requests>=2.19.0->dgl-cu111) (2.0.7)\n",
      "Requirement already satisfied: urllib3<1.27,>=1.21.1 in /home/ec2-user/anaconda3/envs/pytorch_p38/lib/python3.8/site-packages (from requests>=2.19.0->dgl-cu111) (1.26.8)\n",
      "Requirement already satisfied: idna<4,>=2.5 in /home/ec2-user/anaconda3/envs/pytorch_p38/lib/python3.8/site-packages (from requests>=2.19.0->dgl-cu111) (3.1)\n",
      "\u001b[33mWARNING: You are using pip version 22.0.4; however, version 22.1.2 is available.\n",
      "You should consider upgrading via the '/home/ec2-user/anaconda3/envs/pytorch_p38/bin/python -m pip install --upgrade pip' command.\u001b[0m\u001b[33m\n",
      "\u001b[0mNote: you may need to restart the kernel to use updated packages.\n"
     ]
    }
   ],
   "source": [
    "pip install dgl-cu111 -f https://data.dgl.ai/wheels/repo.html"
   ]
  },
  {
   "cell_type": "code",
   "execution_count": 2,
   "metadata": {},
   "outputs": [
    {
     "name": "stdout",
     "output_type": "stream",
     "text": [
      "Finished data loading and preprocessing.\n",
      "  NumNodes: 2708\n",
      "  NumEdges: 10556\n",
      "  NumFeats: 1433\n",
      "  NumClasses: 7\n",
      "  NumTrainingSamples: 140\n",
      "  NumValidationSamples: 500\n",
      "  NumTestSamples: 1000\n",
      "Done saving data into cached files.\n",
      "<class 'networkx.classes.multidigraph.MultiDiGraph'>\n",
      "\n",
      "Node 0 color: red\n",
      "Node 0 size : 5\n",
      "Node 0 label: 0\n"
     ]
    },
    {
     "data": {
      "text/html": [
       "\n",
       "        <iframe\n",
       "            width=\"1500\"\n",
       "            height=\"1500\"\n",
       "            src=\".\\pyvis_exports\\cora.html\"\n",
       "            frameborder=\"0\"\n",
       "            allowfullscreen\n",
       "            \n",
       "        ></iframe>\n",
       "        "
      ],
      "text/plain": [
       "<IPython.lib.display.IFrame at 0x7f719b163c10>"
      ]
     },
     "execution_count": 2,
     "metadata": {},
     "output_type": "execute_result"
    }
   ],
   "source": [
    "%reset -f\n",
    "\n",
    "import dgl\n",
    "import networkx as nx\n",
    "from pyvis.network import Network\n",
    "\n",
    "# Define number of nodes to show in visualization\n",
    "nb_nodes_plot = 100\n",
    "\n",
    "# Step 1. Load the cora dataset and slice it using DGL\n",
    "dataset = dgl.data.CoraGraphDataset()\n",
    "g_dgl = dataset[0].subgraph(list(range(nb_nodes_plot)))\n",
    "\n",
    "# Step 2. Convert the DGLGraph to a NetworkX graph\n",
    "g_netx = nx.Graph(g_dgl.to_networkx())\n",
    "assert nb_nodes_plot == g_netx.number_of_nodes()                           # Quickly checks the conversion\n",
    "print(type(g_dgl.to_networkx()))\n",
    "\n",
    "# Step 3. Get and assign colors to networkX graph as node attributes \n",
    "classes = g_dgl.ndata['label'].numpy()\n",
    "c_dict = {4:'red', 3:'black'}\n",
    "colors = {i:c_dict.get(classes[i], 'blue') for i in range(nb_nodes_plot)}  # Build the colors from classes\n",
    "nx.set_node_attributes(g_netx, colors, name=\"color\")                       # Add the colors as node attributes\n",
    "print(f\"\\nNode 0 color: {g_netx.nodes[0]['color']}\")\n",
    "\n",
    "# Step 4. Get and assign sizes proportional to the classes found in DGL\n",
    "sizes = {i:int(classes[i])+1 for i in range(nb_nodes_plot)}\n",
    "nx.set_node_attributes(g_netx, sizes, name=\"size\")\n",
    "print(f\"Node 0 size : {g_netx.nodes[0]['size']}\")\n",
    "\n",
    "# Step 5. Get and assign pyvis labels for elegant plotting\n",
    "labels = {i:str(i) for i in range(nb_nodes_plot)}\n",
    "nx.set_node_attributes(g_netx, labels, name=\"label\")\n",
    "print(f\"Node 0 label: {g_netx.nodes[0]['label']}\")\n",
    "\n",
    "# Step 6. Remap the node ids to strings to avoid error with PyVis\n",
    "g_netx = nx.relabel_nodes(g_netx, labels)                                # 'Relabeling' the nodes ids\n",
    "\n",
    "# Step 7. Plot the resulting netwrokx graph using PyVis\n",
    "g_pyvis = Network(height=1500, width=1500, notebook=True)\n",
    "g_pyvis.from_nx(g_netx, node_size_transf=lambda n:5*n)\n",
    "g_pyvis.show_buttons(filter_=['nodes'])                                  # Options to control visualization of nodes\n",
    "g_pyvis.show('.\\pyvis_exports\\cora.html')"
   ]
  }
 ],
 "metadata": {
  "kernelspec": {
   "display_name": "conda_pytorch_p38",
   "language": "python",
   "name": "conda_pytorch_p38"
  },
  "language_info": {
   "codemirror_mode": {
    "name": "ipython",
    "version": 3
   },
   "file_extension": ".py",
   "mimetype": "text/x-python",
   "name": "python",
   "nbconvert_exporter": "python",
   "pygments_lexer": "ipython3",
   "version": "3.8.12"
  },
  "vscode": {
   "interpreter": {
    "hash": "9ed63092281da77c49016cfe7b65a8888e388866430b057ec40c20c67b0304e0"
   }
  }
 },
 "nbformat": 4,
 "nbformat_minor": 2
}
